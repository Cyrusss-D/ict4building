{
 "cells": [
  {
   "cell_type": "code",
   "execution_count": 1,
   "metadata": {},
   "outputs": [
    {
     "name": "stderr",
     "output_type": "stream",
     "text": [
      "/home/ict4bd/py3/lib/python3.8/site-packages/besos/evaluator.py:659: FutureWarning: epw_file has been deprecated and will be removed in the future. Use epw instead.\n",
      "  warn(\n"
     ]
    },
    {
     "data": {
      "text/html": [
       "<div>\n",
       "<style scoped>\n",
       "    .dataframe tbody tr th:only-of-type {\n",
       "        vertical-align: middle;\n",
       "    }\n",
       "\n",
       "    .dataframe tbody tr th {\n",
       "        vertical-align: top;\n",
       "    }\n",
       "\n",
       "    .dataframe thead th {\n",
       "        text-align: right;\n",
       "    }\n",
       "</style>\n",
       "<table border=\"1\" class=\"dataframe\">\n",
       "  <thead>\n",
       "    <tr style=\"text-align: right;\">\n",
       "      <th></th>\n",
       "      <th>Orientation</th>\n",
       "      <th>Ventilation</th>\n",
       "      <th>Shading</th>\n",
       "      <th>Insulation Thickness</th>\n",
       "      <th>Window to Wall Ratio</th>\n",
       "    </tr>\n",
       "  </thead>\n",
       "  <tbody>\n",
       "    <tr>\n",
       "      <th>0</th>\n",
       "      <td>90</td>\n",
       "      <td>0</td>\n",
       "      <td>0</td>\n",
       "      <td>0.5</td>\n",
       "      <td>0.1</td>\n",
       "    </tr>\n",
       "  </tbody>\n",
       "</table>\n",
       "</div>"
      ],
      "text/plain": [
       "   Orientation  Ventilation  Shading  Insulation Thickness  \\\n",
       "0           90            0        0                   0.5   \n",
       "\n",
       "   Window to Wall Ratio  \n",
       "0                   0.1  "
      ]
     },
     "execution_count": 1,
     "metadata": {},
     "output_type": "execute_result"
    }
   ],
   "source": [
    "import os\n",
    "import besos\n",
    "from besos import sampling\n",
    "from besos import eppy_funcs as ef\n",
    "from besos import eplus_funcs as ep\n",
    "from besos.problem import EPProblem\n",
    "from besos.evaluator import EvaluatorEP\n",
    "from besos.parameters import wwr, RangeParameter, FieldSelector, FilterSelector, GenericSelector, Parameter, expand_plist, DependentParameter, CategoryParameter\n",
    "from besos.objectives import MeterReader,time_series_values,EPResults\n",
    "from besos.optimizer import NSGAII, df_solution_to_solutions\n",
    "import pandas as pd\n",
    "import matplotlib.pyplot as plt\n",
    "from seaborn import heatmap\n",
    "from seaborn import pairplot\n",
    "import numpy as np\n",
    "\n",
    "# this note book purpouse is just for plotting different type of buildings no insulation medium and high\n",
    "# Open the IDF file\n",
    "idf_1 = \"/home/ict4bd/Desktop/ict4building/DesignBuilderModel/1_layer_window.idf\"\n",
    "idf_2 = \"/home/ict4bd/Desktop/ict4building/DesignBuilderModel/2_layer_window.idf\"\n",
    "idf_3 = \"/home/ict4bd/Desktop/ict4building/DesignBuilderModel/3_layer_window.idf\"\n",
    "weather_file = '/home/ict4bd/Desktop/ict4building/Requirements/CHE_Geneva.067000_IWEC/CHE_Geneva.067000_IWEC.epw'\n",
    "## Set up evaluator\n",
    "# Load Building\n",
    "building = ef.get_building(idf_1)\n",
    "\n",
    "# Parameter Space\n",
    "parameters = []\n",
    "\n",
    "orientation = FieldSelector(class_name='Building', field_name='North Axis')\n",
    "orientation_descriptor = CategoryParameter(options=[0, 90, 180, 270])\n",
    "\n",
    "insulation = FieldSelector(class_name='Material', object_name='XPS Extruded Polystyrene  - CO2 Blowing_.O792', \n",
    "                           field_name='Thickness')\n",
    "insulation_descriptor = RangeParameter(min_val = 0.01, max_val=0.5) \n",
    "\n",
    "shading = FieldSelector(class_name='WindowShadingControl',field_name='Setpoint')\n",
    "shading_descriptor = RangeParameter(min_val = 0, max_val=30) \n",
    "\n",
    "ventilation = FieldSelector(class_name='ZoneVentilation:DesignFlowRate',field_name='Design Flow Rate')\n",
    "ventilation_descriptor = CategoryParameter(options=[0, 0.12])\n",
    "\n",
    "\n",
    "parameters.append(Parameter(selector=orientation, \n",
    "                              value_descriptor=orientation_descriptor,\n",
    "                              name='Orientation'))\n",
    "\n",
    "parameters.append(Parameter(selector=ventilation,\n",
    "                            value_descriptor=ventilation_descriptor,\n",
    "                            name='Ventilation'))\n",
    "\n",
    "parameters.append(Parameter(selector=shading,\n",
    "                            value_descriptor=shading_descriptor,\n",
    "                            name='Shading'))\n",
    "\n",
    "parameters.append(Parameter(selector=insulation,\n",
    "                            value_descriptor=insulation_descriptor,\n",
    "                            name='Insulation Thickness'))\n",
    "\n",
    "parameters.append(wwr(RangeParameter(0.1,0.9))) \n",
    "\n",
    "# Objectives of our problem which is to minimize the TOTAL COMSUMPTION\n",
    "objectives = ['Electricity:Facility','DistrictCooling:Facility', 'DistrictHeating:Facility']\n",
    "\n",
    "# problem = parameters + objectives\n",
    "besos_problem = EPProblem(parameters, objectives)\n",
    "\n",
    "# EPProblem vs EvaluatorEP = problem + building + weather\n",
    "evaluator = EvaluatorEP(besos_problem, building, out_dir='outputdir_reg', err_dir='outputdir_reg', epw_file=weather_file) \n",
    "\n",
    "samples_temp = []\n",
    "\n",
    "'''\n",
    "orientation_values = [0,90,180,270] \n",
    "wwr_values = np.linspace(0.11,0.89,5)\n",
    "ventilation_values = [0, 0.12] \n",
    "tickness_values = [0.011, 0.112, 0.479]\n",
    "shading = np.linspace(10,26,3)\n",
    "for ori in orientation_values:\n",
    "    for wwr_ in wwr_values:\n",
    "        for vent in ventilation_values:\n",
    "            for tickness in tickness_values:\n",
    "                for shade in shading:\n",
    "                    samples_temp.append({'Orientation': ori,\n",
    "                                         'Ventilation': vent,\n",
    "                                         'Shading': shade,\n",
    "                                         'Insulation Thickness': tickness,\n",
    "                                         'Window to Wall Ratio': wwr_})\n",
    "samples = pd.DataFrame.from_dict(samples_temp)\n",
    "'''\n",
    "\n",
    "# Window u value are fixed and predefined in Design builder \n",
    "# 0.78 for 3 layer window\n",
    "# 1.46 for 2 layer window \n",
    "# 2.91 for 1 layer window\n",
    "\n",
    "# for the plots we can simulate \n",
    "# 0.0676 \t0.479583 for high insulation\n",
    "# 0.2509 \t0.112083 medium insulation\n",
    "# 1.0171 \t0.010000 no insulation\n",
    "\n",
    "# shading setpoint < 12 is shading always on \n",
    "# shading setpoint > 26 is always off because cooling starts @ 25\n",
    "\n",
    "\n",
    "samples_temp.append({'Orientation': 90,\n",
    "                    'Ventilation': 0,\n",
    "                    'Shading': 0,\n",
    "                    'Insulation Thickness': 0.5,\n",
    "                    'Window to Wall Ratio': 0.1})\n",
    "samples = pd.DataFrame.from_dict(samples_temp)\n",
    "samples"
   ]
  },
  {
   "cell_type": "code",
   "execution_count": 2,
   "metadata": {},
   "outputs": [
    {
     "data": {
      "application/vnd.jupyter.widget-view+json": {
       "model_id": "ae8d28eb5f824173862e537b5f081200",
       "version_major": 2,
       "version_minor": 0
      },
      "text/plain": [
       "HBox(children=(FloatProgress(value=0.0, description='Executing', max=1.0, style=ProgressStyle(description_widt…"
      ]
     },
     "metadata": {},
     "output_type": "display_data"
    },
    {
     "name": "stdout",
     "output_type": "stream",
     "text": [
      "\n"
     ]
    }
   ],
   "source": [
    "# return dataframe with results described in objectives\n",
    "outputs = evaluator.df_apply(samples, keep_input=True)"
   ]
  },
  {
   "cell_type": "code",
   "execution_count": 3,
   "metadata": {},
   "outputs": [],
   "source": [
    "# Q is kWh / m2\n",
    "total_area= 0\n",
    "for Zones in building.idfobjects[\"Zone\"]:\n",
    "    total_area += float(Zones.checkrange(\"Floor_Area\")) \n",
    "\n",
    "outputs['total (Q)'] = outputs[objectives].sum(axis=1) /3.6e6 /total_area \n",
    "outputs.to_csv(\"demo.csv\")"
   ]
  },
  {
   "cell_type": "code",
   "execution_count": 4,
   "metadata": {},
   "outputs": [
    {
     "data": {
      "text/html": [
       "<div>\n",
       "<style scoped>\n",
       "    .dataframe tbody tr th:only-of-type {\n",
       "        vertical-align: middle;\n",
       "    }\n",
       "\n",
       "    .dataframe tbody tr th {\n",
       "        vertical-align: top;\n",
       "    }\n",
       "\n",
       "    .dataframe thead th {\n",
       "        text-align: right;\n",
       "    }\n",
       "</style>\n",
       "<table border=\"1\" class=\"dataframe\">\n",
       "  <thead>\n",
       "    <tr style=\"text-align: right;\">\n",
       "      <th></th>\n",
       "      <th>Orientation</th>\n",
       "      <th>Ventilation</th>\n",
       "      <th>Shading</th>\n",
       "      <th>Insulation Thickness</th>\n",
       "      <th>Window to Wall Ratio</th>\n",
       "      <th>Electricity:Facility</th>\n",
       "      <th>DistrictCooling:Facility</th>\n",
       "      <th>DistrictHeating:Facility</th>\n",
       "      <th>total (Q)</th>\n",
       "    </tr>\n",
       "  </thead>\n",
       "  <tbody>\n",
       "    <tr>\n",
       "      <th>0</th>\n",
       "      <td>90</td>\n",
       "      <td>0</td>\n",
       "      <td>0</td>\n",
       "      <td>0.5</td>\n",
       "      <td>0.1</td>\n",
       "      <td>5.773029e+09</td>\n",
       "      <td>0.0</td>\n",
       "      <td>1.338887e+10</td>\n",
       "      <td>113.579148</td>\n",
       "    </tr>\n",
       "  </tbody>\n",
       "</table>\n",
       "</div>"
      ],
      "text/plain": [
       "   Orientation  Ventilation  Shading  Insulation Thickness  \\\n",
       "0           90            0        0                   0.5   \n",
       "\n",
       "   Window to Wall Ratio  Electricity:Facility  DistrictCooling:Facility  \\\n",
       "0                   0.1          5.773029e+09                       0.0   \n",
       "\n",
       "   DistrictHeating:Facility   total (Q)  \n",
       "0              1.338887e+10  113.579148  "
      ]
     },
     "execution_count": 4,
     "metadata": {},
     "output_type": "execute_result"
    }
   ],
   "source": [
    "outputs"
   ]
  },
  {
   "cell_type": "code",
   "execution_count": null,
   "metadata": {},
   "outputs": [],
   "source": []
  }
 ],
 "metadata": {
  "kernelspec": {
   "display_name": "Python 3",
   "language": "python",
   "name": "python3"
  },
  "language_info": {
   "codemirror_mode": {
    "name": "ipython",
    "version": 3
   },
   "file_extension": ".py",
   "mimetype": "text/x-python",
   "name": "python",
   "nbconvert_exporter": "python",
   "pygments_lexer": "ipython3",
   "version": "3.8.5"
  }
 },
 "nbformat": 4,
 "nbformat_minor": 4
}
