{
  "nbformat": 4,
  "nbformat_minor": 0,
  "metadata": {
    "colab": {
      "name": "Copy of regression.ipynb",
      "provenance": []
    },
    "kernelspec": {
      "name": "python3",
      "display_name": "Python 3"
    }
  },
  "cells": [
    {
      "cell_type": "code",
      "metadata": {
        "id": "Z6VSkEsHXiq0"
      },
      "source": [
        "from sub.min import *\r\n",
        "import pandas as pd\r\n",
        "import numpy as np\r\n",
        "import matplotlib.pyplot as plt\r\n",
        "from seaborn import heatmap\r\n",
        "from seaborn import pairplot"
      ],
      "execution_count": null,
      "outputs": []
    },
    {
      "cell_type": "code",
      "metadata": {
        "colab": {
          "base_uri": "https://localhost:8080/"
        },
        "id": "gvzqOo1GZRbR",
        "outputId": "9a25807a-30ba-4917-bd80-f12a34f2f361"
      },
      "source": [
        "df_out1 = pd.read_csv(\"1_layer.csv\", index_col=0)\r\n",
        "df_out2 = pd.read_csv(\"2_layer.csv\", index_col=0)\r\n",
        "df_out3 = pd.read_csv(\"3_layer.csv\", index_col=0)\r\n",
        "np.random.seed(2)  # random seed grant us an comparable results obtained in each algorithm\r\n",
        "df_out3.info()  # the panda framework display an easier to read matrix\r\n",
        "data = df_out2[['Orientation','Ventilation','Shading','Insulation Thickness','Window to Wall Ratio','total (Q)']].values  # convert the values in the file into a matrix specifically an Ndarray"
      ],
      "execution_count": null,
      "outputs": [
        {
          "output_type": "stream",
          "text": [
            "<class 'pandas.core.frame.DataFrame'>\n",
            "Int64Index: 100 entries, 0 to 99\n",
            "Data columns (total 9 columns):\n",
            " #   Column                    Non-Null Count  Dtype  \n",
            "---  ------                    --------------  -----  \n",
            " 0   Orientation               100 non-null    int64  \n",
            " 1   Ventilation               100 non-null    float64\n",
            " 2   Shading                   100 non-null    float64\n",
            " 3   Insulation Thickness      100 non-null    float64\n",
            " 4   Window to Wall Ratio      100 non-null    float64\n",
            " 5   Electricity:Facility      100 non-null    float64\n",
            " 6   DistrictCooling:Facility  100 non-null    float64\n",
            " 7   DistrictHeating:Facility  100 non-null    float64\n",
            " 8   total (Q)                 100 non-null    float64\n",
            "dtypes: float64(8), int64(1)\n",
            "memory usage: 7.8 KB\n"
          ],
          "name": "stdout"
        }
      ]
    },
    {
      "cell_type": "code",
      "metadata": {
        "id": "fS9qc5eYZk64",
        "colab": {
          "base_uri": "https://localhost:8080/"
        },
        "outputId": "1aca383d-9431-4a4a-af7f-ddf6eb4b2839"
      },
      "source": [
        "Np, Nf = np.shape(data)\r\n",
        "Np, Nf"
      ],
      "execution_count": null,
      "outputs": [
        {
          "output_type": "execute_result",
          "data": {
            "text/plain": [
              "(100, 6)"
            ]
          },
          "metadata": {
            "tags": []
          },
          "execution_count": 44
        }
      ]
    },
    {
      "cell_type": "code",
      "metadata": {
        "id": "HV--AmIYZo1I",
        "colab": {
          "base_uri": "https://localhost:8080/"
        },
        "outputId": "a1d3a99d-8cda-4de1-a3db-719e36cb0db3"
      },
      "source": [
        "\r\n",
        "data_train = data[0:int(Np/2), :]  # the training data is 50% of the whole data set\r\n",
        "data_val = data[int(Np/2):int(Np*0.75), :]  # validation data set 25%\r\n",
        "data_test = data[int(Np*0.75):Np, :]  # test data set 25%\r\n",
        "\r\n",
        "mean = np.mean(data_train, 0)  # returns a row of means\r\n",
        "std = np.std(data_train, 0)  # returns a row of standard deviations\r\n",
        "print(\"std deviation: \", std)\r\n",
        "\r\n",
        "# standardizing our data means that an eventual offset will be not considered\r\n",
        "data_train_norm = (data_train - mean)/std\r\n",
        "data_val_norm = (data_val - mean)/std\r\n",
        "data_test_norm = (data_test - mean)/std"
      ],
      "execution_count": null,
      "outputs": [
        {
          "output_type": "stream",
          "text": [
            "std deviation:  [9.89836350e+01 6.00000000e-02 8.83189950e+00 1.45229786e-01\n",
            " 2.19632740e-01 1.50013454e+01]\n"
          ],
          "name": "stdout"
        }
      ]
    },
    {
      "cell_type": "code",
      "metadata": {
        "colab": {
          "base_uri": "https://localhost:8080/"
        },
        "id": "SseSbGMoZ0zH",
        "outputId": "de760529-3095-4d4f-e79f-931d1cb98227"
      },
      "source": [
        "mean_check = np.mean(data_train_norm, 0)  # returns a row of means\r\n",
        "std_check = np.std(data_train_norm, 0)  # returns a row of standard deviations\r\n",
        "mean_check, std_check"
      ],
      "execution_count": null,
      "outputs": [
        {
          "output_type": "execute_result",
          "data": {
            "text/plain": [
              "(array([-7.99360578e-17,  0.00000000e+00, -3.33066907e-17, -8.88178420e-17,\n",
              "        -5.99520433e-17, -1.48492330e-15]), array([1., 1., 1., 1., 1., 1.]))"
            ]
          },
          "metadata": {
            "tags": []
          },
          "execution_count": 64
        }
      ]
    },
    {
      "cell_type": "code",
      "metadata": {
        "id": "yk_RwbgWq7Ks"
      },
      "source": [
        "F0 = 5 # F0 is the feature we want to choose in order to be the regressand in our case  it is the Total Q\r\n",
        "# regressands y and regressors X set up\r\n",
        "y_train = data_train_norm[:, F0]\r\n",
        "X_train = np.delete(data_train_norm, F0, 1)\r\n",
        "y_val = data_val_norm[:, F0]\r\n",
        "X_val = np.delete(data_val_norm, F0, 1)\r\n",
        "y_test = data_test_norm[:, F0]\r\n",
        "X_test = np.delete(data_test_norm, F0, 1)"
      ],
      "execution_count": null,
      "outputs": []
    },
    {
      "cell_type": "code",
      "metadata": {
        "id": "eZIPqQN5q-w_"
      },
      "source": [
        "# with the slicing operation we have to keep in mind to check the resulting shape\r\n",
        "# print(np.shape(y_train)) to check\r\n",
        "y_train = y_train.reshape(y_train.shape[0], 1)\r\n",
        "y_val = y_val.reshape(y_val.shape[0], 1)\r\n",
        "y_test = y_test.reshape(y_test.shape[0], 1)\r\n",
        "# some inizialization before starting the algorithms\r\n",
        "logx = 0\r\n",
        "logy = 1\r\n",
        "Nit = 30\r\n",
        "# gamma = 1e-5\r\n",
        "mse_train = np.zeros((6, 1), dtype=float)\r\n",
        "mse_val = np.zeros((6, 1), dtype=float)\r\n",
        "mse_test = np.zeros((6, 1), dtype=float)"
      ],
      "execution_count": null,
      "outputs": []
    },
    {
      "cell_type": "code",
      "metadata": {
        "colab": {
          "base_uri": "https://localhost:8080/",
          "height": 1000
        },
        "id": "QDGrqvDBrDfw",
        "outputId": "0fd29441-f63e-4819-a083-996afc71e39f"
      },
      "source": [
        "sd = SolveSteepDesc(y_train, X_train, y_val, X_val, y_test, X_test)\r\n",
        "mse_train[2], mse_val[2], mse_test[2] = sd.run(Nit)\r\n",
        "sd.print_result('Steepest Descent algorithm')\r\n",
        "sd.plot_err('Steepest Descent : square error', logy, logx)\r\n",
        "sd.print_hat('yhat_train vs y_train for Steepest Descent', 'yhat_train','y_train',y_train, X_train,mean[F0],std[F0])\r\n",
        "sd.print_hat('yhat_test vs y_test for Steepest Descent', 'yhat_test', 'y_test', y_test, X_test, mean[F0],std[F0])"
      ],
      "execution_count": null,
      "outputs": [
        {
          "output_type": "stream",
          "text": [
            "Steepest Descent algorithm  :\n",
            "the optimum weight vector is: \n",
            "[[ 0.06075165]\n",
            " [ 0.14680401]\n",
            " [-0.13778623]\n",
            " [-0.72204179]\n",
            " [ 0.04748089]]\n"
          ],
          "name": "stdout"
        },
        {
          "output_type": "display_data",
          "data": {
            "image/png": "[encoded data removed]",
            "text/plain": [
              "<Figure size 432x288 with 1 Axes>"
            ]
          },
          "metadata": {
            "tags": [],
            "needs_background": "light"
          }
        },
        {
          "output_type": "display_data",
          "data": {
            "image/png": "[encoded data removed]",
            "text/plain": [
              "<Figure size 432x288 with 1 Axes>"
            ]
          },
          "metadata": {
            "tags": [],
            "needs_background": "light"
          }
        },
        {
          "output_type": "display_data",
          "data": {
            "image/png": "[encoded data removed]",
            "text/plain": [
              "<Figure size 432x288 with 1 Axes>"
            ]
          },
          "metadata": {
            "tags": [],
            "needs_background": "light"
          }
        },
        {
          "output_type": "display_data",
          "data": {
            "image/png": "[encoded data removed]",
            "text/plain": [
              "<Figure size 432x288 with 1 Axes>"
            ]
          },
          "metadata": {
            "tags": [],
            "needs_background": "light"
          }
        },
        {
          "output_type": "display_data",
          "data": {
            "image/png": "[encoded data removed]",
            "text/plain": [
              "<Figure size 432x288 with 1 Axes>"
            ]
          },
          "metadata": {
            "tags": [],
            "needs_background": "light"
          }
        }
      ]
    },
    {
      "cell_type": "code",
      "metadata": {
        "colab": {
          "base_uri": "https://localhost:8080/"
        },
        "id": "zsxfPTBArEjq",
        "outputId": "863daa7a-def0-463d-d1b7-25bdf5a2e02c"
      },
      "source": [
        "'''w=np.array([[-0.01942819],\r\n",
        " [ 0.02405054],\r\n",
        " [ 0.02271791],\r\n",
        " [-0.77846603],\r\n",
        " [ 0.14416589],])'''\r\n",
        "'''w=np.array([[-0.07657716],\r\n",
        " [ 0.03720988],\r\n",
        " [-0.02415487],\r\n",
        " [-0.73439275],\r\n",
        " [ 0.44391246]])'''\r\n",
        "w=np.array([[ 0.06075165],\r\n",
        " [ 0.14680401],\r\n",
        " [-0.13778623],\r\n",
        " [-0.72204179],\r\n",
        " [ 0.04748089]])\r\n",
        "w.shape"
      ],
      "execution_count": null,
      "outputs": [
        {
          "output_type": "execute_result",
          "data": {
            "text/plain": [
              "(5, 1)"
            ]
          },
          "metadata": {
            "tags": []
          },
          "execution_count": 70
        }
      ]
    },
    {
      "cell_type": "code",
      "metadata": {
        "colab": {
          "base_uri": "https://localhost:8080/",
          "height": 419
        },
        "id": "bJEJYxu5rQbg",
        "outputId": "d0281a26-24f4-4718-fbd8-cd8f6b59088f"
      },
      "source": [
        "\r\n",
        "samples_temp = []\r\n",
        "orientation_values = [0,90,180,270] \r\n",
        "wwr_values = np.linspace(0.1,0.9,100)\r\n",
        "ventilation_values = [0, 0.12] \r\n",
        "tickness_values = [0.01, 0.112, 0.479]\r\n",
        "shading = np.linspace(0,30,31)\r\n",
        "for ori in orientation_values:\r\n",
        "    for wwr_ in wwr_values:\r\n",
        "        for vent in ventilation_values:\r\n",
        "            for tickness in tickness_values:\r\n",
        "                for shade in shading:\r\n",
        "                    samples_temp.append({'Orientation': ori,\r\n",
        "                                         'Ventilation': vent,\r\n",
        "                                         'Shading': shade,\r\n",
        "                                         'Insulation Thickness': tickness,\r\n",
        "                                         'Window to Wall Ratio': wwr_,})\r\n",
        "samples = pd.DataFrame.from_dict(samples_temp)\r\n",
        "samples"
      ],
      "execution_count": null,
      "outputs": [
        {
          "output_type": "execute_result",
          "data": {
            "text/html": [
              "<div>\n",
              "<style scoped>\n",
              "    .dataframe tbody tr th:only-of-type {\n",
              "        vertical-align: middle;\n",
              "    }\n",
              "\n",
              "    .dataframe tbody tr th {\n",
              "        vertical-align: top;\n",
              "    }\n",
              "\n",
              "    .dataframe thead th {\n",
              "        text-align: right;\n",
              "    }\n",
              "</style>\n",
              "<table border=\"1\" class=\"dataframe\">\n",
              "  <thead>\n",
              "    <tr style=\"text-align: right;\">\n",
              "      <th></th>\n",
              "      <th>Orientation</th>\n",
              "      <th>Ventilation</th>\n",
              "      <th>Shading</th>\n",
              "      <th>Insulation Thickness</th>\n",
              "      <th>Window to Wall Ratio</th>\n",
              "    </tr>\n",
              "  </thead>\n",
              "  <tbody>\n",
              "    <tr>\n",
              "      <th>0</th>\n",
              "      <td>0</td>\n",
              "      <td>0.00</td>\n",
              "      <td>0.0</td>\n",
              "      <td>0.010</td>\n",
              "      <td>0.1</td>\n",
              "    </tr>\n",
              "    <tr>\n",
              "      <th>1</th>\n",
              "      <td>0</td>\n",
              "      <td>0.00</td>\n",
              "      <td>1.0</td>\n",
              "      <td>0.010</td>\n",
              "      <td>0.1</td>\n",
              "    </tr>\n",
              "    <tr>\n",
              "      <th>2</th>\n",
              "      <td>0</td>\n",
              "      <td>0.00</td>\n",
              "      <td>2.0</td>\n",
              "      <td>0.010</td>\n",
              "      <td>0.1</td>\n",
              "    </tr>\n",
              "    <tr>\n",
              "      <th>3</th>\n",
              "      <td>0</td>\n",
              "      <td>0.00</td>\n",
              "      <td>3.0</td>\n",
              "      <td>0.010</td>\n",
              "      <td>0.1</td>\n",
              "    </tr>\n",
              "    <tr>\n",
              "      <th>4</th>\n",
              "      <td>0</td>\n",
              "      <td>0.00</td>\n",
              "      <td>4.0</td>\n",
              "      <td>0.010</td>\n",
              "      <td>0.1</td>\n",
              "    </tr>\n",
              "    <tr>\n",
              "      <th>...</th>\n",
              "      <td>...</td>\n",
              "      <td>...</td>\n",
              "      <td>...</td>\n",
              "      <td>...</td>\n",
              "      <td>...</td>\n",
              "    </tr>\n",
              "    <tr>\n",
              "      <th>74395</th>\n",
              "      <td>270</td>\n",
              "      <td>0.12</td>\n",
              "      <td>26.0</td>\n",
              "      <td>0.479</td>\n",
              "      <td>0.9</td>\n",
              "    </tr>\n",
              "    <tr>\n",
              "      <th>74396</th>\n",
              "      <td>270</td>\n",
              "      <td>0.12</td>\n",
              "      <td>27.0</td>\n",
              "      <td>0.479</td>\n",
              "      <td>0.9</td>\n",
              "    </tr>\n",
              "    <tr>\n",
              "      <th>74397</th>\n",
              "      <td>270</td>\n",
              "      <td>0.12</td>\n",
              "      <td>28.0</td>\n",
              "      <td>0.479</td>\n",
              "      <td>0.9</td>\n",
              "    </tr>\n",
              "    <tr>\n",
              "      <th>74398</th>\n",
              "      <td>270</td>\n",
              "      <td>0.12</td>\n",
              "      <td>29.0</td>\n",
              "      <td>0.479</td>\n",
              "      <td>0.9</td>\n",
              "    </tr>\n",
              "    <tr>\n",
              "      <th>74399</th>\n",
              "      <td>270</td>\n",
              "      <td>0.12</td>\n",
              "      <td>30.0</td>\n",
              "      <td>0.479</td>\n",
              "      <td>0.9</td>\n",
              "    </tr>\n",
              "  </tbody>\n",
              "</table>\n",
              "<p>74400 rows × 5 columns</p>\n",
              "</div>"
            ],
            "text/plain": [
              "       Orientation  Ventilation  ...  Insulation Thickness  Window to Wall Ratio\n",
              "0                0         0.00  ...                 0.010                   0.1\n",
              "1                0         0.00  ...                 0.010                   0.1\n",
              "2                0         0.00  ...                 0.010                   0.1\n",
              "3                0         0.00  ...                 0.010                   0.1\n",
              "4                0         0.00  ...                 0.010                   0.1\n",
              "...            ...          ...  ...                   ...                   ...\n",
              "74395          270         0.12  ...                 0.479                   0.9\n",
              "74396          270         0.12  ...                 0.479                   0.9\n",
              "74397          270         0.12  ...                 0.479                   0.9\n",
              "74398          270         0.12  ...                 0.479                   0.9\n",
              "74399          270         0.12  ...                 0.479                   0.9\n",
              "\n",
              "[74400 rows x 5 columns]"
            ]
          },
          "metadata": {
            "tags": []
          },
          "execution_count": 71
        }
      ]
    },
    {
      "cell_type": "code",
      "metadata": {
        "colab": {
          "base_uri": "https://localhost:8080/"
        },
        "id": "hmlkvnPqreko",
        "outputId": "64a646a9-f416-45c2-d90e-9c26a126efb1"
      },
      "source": [
        "test_data=samples.values\r\n",
        "test_data_norm=(test_data -mean[:5])/std[:5]\r\n",
        "# checking if the mean and standard deviation are respected\r\n",
        "mean_check = np.mean(test_data_norm, 0)  # returns a row of means\r\n",
        "std_check = np.std(test_data_norm, 0)  # returns a row of standard deviations\r\n",
        "mean_check, std_check"
      ],
      "execution_count": null,
      "outputs": [
        {
          "output_type": "execute_result",
          "data": {
            "text/plain": [
              "(array([-0.01818482,  0.        , -0.10085545, -0.56461312, -0.04370444]),\n",
              " array([1.01656258, 1.        , 1.01272347, 1.38676095, 1.062051  ]))"
            ]
          },
          "metadata": {
            "tags": []
          },
          "execution_count": 72
        }
      ]
    },
    {
      "cell_type": "code",
      "metadata": {
        "id": "pZcfe9HArl-o"
      },
      "source": [
        "total_Q = np.dot(test_data_norm,w)\r\n",
        "total_Q_denorm = (total_Q * std[-1])+mean[-1]"
      ],
      "execution_count": null,
      "outputs": []
    },
    {
      "cell_type": "code",
      "metadata": {
        "colab": {
          "base_uri": "https://localhost:8080/"
        },
        "id": "5L_8Flixrsdp",
        "outputId": "2dbe0627-5e3b-40f3-a8d6-52f812b78b8d"
      },
      "source": [
        "total_Q_denorm.min()"
      ],
      "execution_count": null,
      "outputs": [
        {
          "output_type": "execute_result",
          "data": {
            "text/plain": [
              "100.28874892928366"
            ]
          },
          "metadata": {
            "tags": []
          },
          "execution_count": 74
        }
      ]
    },
    {
      "cell_type": "code",
      "metadata": {
        "colab": {
          "base_uri": "https://localhost:8080/"
        },
        "id": "RAVUfwIQrvdo",
        "outputId": "d87378cf-e46b-498b-e723-1495800c0e5b"
      },
      "source": [
        "total_Q.argmin()"
      ],
      "execution_count": null,
      "outputs": [
        {
          "output_type": "execute_result",
          "data": {
            "text/plain": [
              "55862"
            ]
          },
          "metadata": {
            "tags": []
          },
          "execution_count": 39
        }
      ]
    },
    {
      "cell_type": "code",
      "metadata": {
        "colab": {
          "base_uri": "https://localhost:8080/"
        },
        "id": "oXIp4wkZrxjQ",
        "outputId": "335feb49-aa07-4beb-fbd9-42e13b0ccf35"
      },
      "source": [
        "with np.printoptions(precision=3, suppress=True):\r\n",
        "    print(test_data[total_Q.argmin(),:])"
      ],
      "execution_count": null,
      "outputs": [
        {
          "output_type": "stream",
          "text": [
            "[ 0.     0.    30.     0.479  0.1  ]\n"
          ],
          "name": "stdout"
        }
      ]
    },
    {
      "cell_type": "code",
      "metadata": {
        "colab": {
          "base_uri": "https://localhost:8080/",
          "height": 297
        },
        "id": "0U0IgL7Try2b",
        "outputId": "76baa16e-70b0-4ef7-db99-0863609632f8"
      },
      "source": [
        "samples[\"total (Q)\"] = total_Q_denorm"
      ],
      "execution_count": null,
      "outputs": [
        {
          "output_type": "execute_result",
          "data": {
            "text/html": [
              "<div>\n",
              "<style scoped>\n",
              "    .dataframe tbody tr th:only-of-type {\n",
              "        vertical-align: middle;\n",
              "    }\n",
              "\n",
              "    .dataframe tbody tr th {\n",
              "        vertical-align: top;\n",
              "    }\n",
              "\n",
              "    .dataframe thead th {\n",
              "        text-align: right;\n",
              "    }\n",
              "</style>\n",
              "<table border=\"1\" class=\"dataframe\">\n",
              "  <thead>\n",
              "    <tr style=\"text-align: right;\">\n",
              "      <th></th>\n",
              "      <th>Orientation</th>\n",
              "      <th>Ventilation</th>\n",
              "      <th>Shading</th>\n",
              "      <th>Insulation Thickness</th>\n",
              "      <th>Window to Wall Ratio</th>\n",
              "      <th>total (Q)</th>\n",
              "    </tr>\n",
              "  </thead>\n",
              "  <tbody>\n",
              "    <tr>\n",
              "      <th>count</th>\n",
              "      <td>74400.000000</td>\n",
              "      <td>74400.00</td>\n",
              "      <td>74400.000000</td>\n",
              "      <td>74400.000000</td>\n",
              "      <td>74400.000000</td>\n",
              "      <td>74400.000000</td>\n",
              "    </tr>\n",
              "    <tr>\n",
              "      <th>mean</th>\n",
              "      <td>135.000000</td>\n",
              "      <td>0.06</td>\n",
              "      <td>15.000000</td>\n",
              "      <td>0.200333</td>\n",
              "      <td>0.500000</td>\n",
              "      <td>130.125372</td>\n",
              "    </tr>\n",
              "    <tr>\n",
              "      <th>std</th>\n",
              "      <td>100.623735</td>\n",
              "      <td>0.06</td>\n",
              "      <td>8.944332</td>\n",
              "      <td>0.201400</td>\n",
              "      <td>0.233263</td>\n",
              "      <td>15.371762</td>\n",
              "    </tr>\n",
              "    <tr>\n",
              "      <th>min</th>\n",
              "      <td>0.000000</td>\n",
              "      <td>0.00</td>\n",
              "      <td>0.000000</td>\n",
              "      <td>0.010000</td>\n",
              "      <td>0.100000</td>\n",
              "      <td>101.088749</td>\n",
              "    </tr>\n",
              "    <tr>\n",
              "      <th>25%</th>\n",
              "      <td>67.500000</td>\n",
              "      <td>0.00</td>\n",
              "      <td>7.000000</td>\n",
              "      <td>0.010000</td>\n",
              "      <td>0.300000</td>\n",
              "      <td>111.699895</td>\n",
              "    </tr>\n",
              "    <tr>\n",
              "      <th>50%</th>\n",
              "      <td>135.000000</td>\n",
              "      <td>0.06</td>\n",
              "      <td>15.000000</td>\n",
              "      <td>0.112000</td>\n",
              "      <td>0.500000</td>\n",
              "      <td>136.696684</td>\n",
              "    </tr>\n",
              "    <tr>\n",
              "      <th>75%</th>\n",
              "      <td>202.500000</td>\n",
              "      <td>0.12</td>\n",
              "      <td>23.000000</td>\n",
              "      <td>0.479000</td>\n",
              "      <td>0.700000</td>\n",
              "      <td>142.400960</td>\n",
              "    </tr>\n",
              "    <tr>\n",
              "      <th>max</th>\n",
              "      <td>270.000000</td>\n",
              "      <td>0.12</td>\n",
              "      <td>30.000000</td>\n",
              "      <td>0.479000</td>\n",
              "      <td>0.900000</td>\n",
              "      <td>152.573876</td>\n",
              "    </tr>\n",
              "  </tbody>\n",
              "</table>\n",
              "</div>"
            ],
            "text/plain": [
              "        Orientation  Ventilation  ...  Window to Wall Ratio     total (Q)\n",
              "count  74400.000000     74400.00  ...          74400.000000  74400.000000\n",
              "mean     135.000000         0.06  ...              0.500000    130.125372\n",
              "std      100.623735         0.06  ...              0.233263     15.371762\n",
              "min        0.000000         0.00  ...              0.100000    101.088749\n",
              "25%       67.500000         0.00  ...              0.300000    111.699895\n",
              "50%      135.000000         0.06  ...              0.500000    136.696684\n",
              "75%      202.500000         0.12  ...              0.700000    142.400960\n",
              "max      270.000000         0.12  ...              0.900000    152.573876\n",
              "\n",
              "[8 rows x 6 columns]"
            ]
          },
          "metadata": {
            "tags": []
          },
          "execution_count": 78
        }
      ]
    },
    {
      "cell_type": "code",
      "metadata": {
        "id": "-EGOmQ4jsCLx"
      },
      "source": [
        "samples.to_csv(\"2_layer_reg.csv\")"
      ],
      "execution_count": null,
      "outputs": []
    }
  ]
}